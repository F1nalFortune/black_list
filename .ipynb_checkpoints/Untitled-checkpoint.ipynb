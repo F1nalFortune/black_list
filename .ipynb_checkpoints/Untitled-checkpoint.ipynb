{
 "cells": [
  {
   "cell_type": "code",
   "execution_count": 9,
   "metadata": {},
   "outputs": [
    {
     "name": "stdout",
     "output_type": "stream",
     "text": [
      "['brian_phelps', 'craig_elkin']\n"
     ]
    }
   ],
   "source": [
    "import os\n",
    "\n",
    "directory_in_str = './blacklist_names/'\n",
    "\n",
    "directory = os.fsencode(directory_in_str)\n",
    "\n",
    "full_names = []\n",
    "\n",
    "for file in os.listdir(directory):\n",
    "  filename = os.fsdecode(file)\n",
    "  if filename.endswith(\".png\"): \n",
    "    full_names.append(filename.replace(\".png\", \"\"))\n",
    "  else:\n",
    "    continue\n",
    "    \n",
    "print(full_names)"
   ]
  },
  {
   "cell_type": "code",
   "execution_count": 12,
   "metadata": {},
   "outputs": [],
   "source": [
    "test = \"1234\"\n",
    "\n",
    "f\"{test}\""
   ]
  },
  {
   "cell_type": "code",
   "execution_count": null,
   "metadata": {},
   "outputs": [],
   "source": []
  }
 ],
 "metadata": {
  "kernelspec": {
   "display_name": "Python 3",
   "language": "python",
   "name": "python3"
  },
  "language_info": {
   "codemirror_mode": {
    "name": "ipython",
    "version": 3
   },
   "file_extension": ".py",
   "mimetype": "text/x-python",
   "name": "python",
   "nbconvert_exporter": "python",
   "pygments_lexer": "ipython3",
   "version": "3.7.3"
  }
 },
 "nbformat": 4,
 "nbformat_minor": 4
}
